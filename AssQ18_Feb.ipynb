{
 "cells": [
  {
   "cell_type": "markdown",
   "id": "5506c390-4a73-411d-8294-b0da836400a1",
   "metadata": {},
   "source": [
    "# Assignment 18 Feb \"API\""
   ]
  },
  {
   "cell_type": "code",
   "execution_count": 1,
   "id": "ccc8def8-9406-4576-8481-5719274739b1",
   "metadata": {},
   "outputs": [],
   "source": [
    "# Q1. What is an API? Give an example, where an API is used in real life."
   ]
  },
  {
   "cell_type": "code",
   "execution_count": null,
   "id": "14cdf5b0-6766-417d-8bd1-e74fcdb86d37",
   "metadata": {},
   "outputs": [],
   "source": [
    "# API:-\n",
    "# API (application programming interface ) is a software intermediary that allows two applications \n",
    "# to talk to each other. APIs are an accessible way to extract and share data within and across organization.\n",
    "\n",
    "# The Google Maps API and Twitter, logging into Facebook, Google,Apple API are the real life example of API.\n",
    "# most websites can use Google Maps APIs to integrate their maps."
   ]
  },
  {
   "cell_type": "code",
   "execution_count": null,
   "id": "143b9887-aba5-4e26-a52c-b2b33d2e51dc",
   "metadata": {},
   "outputs": [],
   "source": []
  },
  {
   "cell_type": "code",
   "execution_count": 3,
   "id": "c2e05d55-caa7-4d86-bd7a-28d095c05481",
   "metadata": {},
   "outputs": [],
   "source": [
    "# Q2. Give advantages and disadvantages of using API. "
   ]
  },
  {
   "cell_type": "code",
   "execution_count": null,
   "id": "e41a4234-2ece-40f8-9e76-9c1597ff8e4f",
   "metadata": {},
   "outputs": [],
   "source": [
    "# Adv of API:-\n",
    "\n",
    "# APIs allow applications and system components to communicate with each other on internal networks as well as \n",
    "# over the Internet. They've become integral to enterprise efforts to make internal applications and services \n",
    "# accessible over the Internet to business customers, partners, suppliers, and other third parties.\n",
    "\n",
    "# Disadv of ApI:-\n",
    "\n",
    "# As a single point of entry, an API is a gateway and can become a hacker's primary target.\n",
    "# Once the API is compromised, all other applications and systems become vulnerable."
   ]
  },
  {
   "cell_type": "code",
   "execution_count": null,
   "id": "78cf45df-922f-4cac-a245-6e2dd729a3a6",
   "metadata": {},
   "outputs": [],
   "source": []
  },
  {
   "cell_type": "code",
   "execution_count": 4,
   "id": "be3426c0-147d-4b2d-9cfe-502c077d9295",
   "metadata": {},
   "outputs": [],
   "source": [
    "# Q3. What is a Web API? Differentiate between API and Web API."
   ]
  },
  {
   "cell_type": "code",
   "execution_count": 5,
   "id": "881ec997-ba7f-4869-8f06-37103e24c381",
   "metadata": {},
   "outputs": [],
   "source": [
    "# Web API:-\n",
    "# A Web API is an application programming interface for the Web. A Browser API can extend the functionality of a web browser.\n",
    "# A Server API can extend the functionality of a web server.\n",
    "# A web API is an application programming interface for either a web server or a web browser.\n",
    "\n",
    "# Diff between API and Web API:-\n",
    "\n",
    "# Both APIs and web services are technologies that enable the transfer of data between separate \n",
    "# software applications. API is an interface that exposes an application's data to outside software, \n",
    "# whereas web applications are one type of API with stricter requirements.\n",
    "# Web service is used to communicate between two machines on a network. Web API is used as an interface between two different \n",
    "# applications for communicating with each other."
   ]
  },
  {
   "cell_type": "code",
   "execution_count": null,
   "id": "698dd71d-48de-45ca-982c-c35ea27bfa05",
   "metadata": {},
   "outputs": [],
   "source": []
  },
  {
   "cell_type": "code",
   "execution_count": null,
   "id": "e5ed0f94-88b7-43a7-8b79-24b41126685b",
   "metadata": {},
   "outputs": [],
   "source": [
    "# Q4. Explain REST and SOAP Architecture. Mention shortcomings of SOAP."
   ]
  },
  {
   "cell_type": "code",
   "execution_count": null,
   "id": "35078f57-81ab-48e1-b6f0-c9ca5e729239",
   "metadata": {},
   "outputs": [],
   "source": [
    "# REST architecture:-\n",
    "\n",
    "# REST is a software architectural style that defines the set of rules to be used for creating web services. \n",
    "# A REST API is an application programming interface (API) that uses a representational state transfer\n",
    "# (REST) architectural style. The REST architectural style uses HTTP to request access and use data. \n",
    "# This allows for interaction with RESTful web services.\n",
    "\n",
    "# SOAP architecture:-\n",
    "\n",
    "# SOAP is the Simple Object Access Protocol, a messaging standard defined by the World Wide Web Consortium \n",
    "# and its member editors. SOAP uses an XML data format to declare its request and response messages, relying \n",
    "# on XML Schema and other technologies to enforce the structure of its payloads.\n",
    "\n",
    "# Shortcomings of SOAP:-\n",
    "\n",
    "# As SOAP can only transfer messages as XML files,  SOAP API will be less performant, as XML \n",
    "# is a verbose format compared to JSON. API calls made to  server will need more bandwidth and\n",
    "# it will take more time to process the request and transfer the response back to the client"
   ]
  },
  {
   "cell_type": "code",
   "execution_count": null,
   "id": "5c51bd22-d1b9-4f0e-bd4c-e3ebd808fa98",
   "metadata": {},
   "outputs": [],
   "source": []
  },
  {
   "cell_type": "code",
   "execution_count": null,
   "id": "18c7d4f4-a497-4717-8909-a06415b3b466",
   "metadata": {},
   "outputs": [],
   "source": [
    "# Q5. Differentiate between REST and SOAP."
   ]
  },
  {
   "cell_type": "code",
   "execution_count": null,
   "id": "4287c69a-1781-4554-ba77-d80b06dae2fb",
   "metadata": {},
   "outputs": [],
   "source": [
    "#  SOAP stands for Simple Object Access Protocol whereas REST stands for Representational State Transfer.\n",
    "# SOAP is a protocol whereas REST is an architectural pattern.\n",
    "# SOAP uses service interfaces to expose its functionality to client applications while REST uses Uniform \n",
    "# Service locators to access to the components on the hardware device.\n",
    "# SOAP needs more bandwidth for its usage whereas REST doesn’t need much bandwidth.\n",
    "# Comparing SOAP vs REST API, SOAP only works with XML formats whereas REST work with plain text, XML, HTML and JSON.\n",
    "# SOAP cannot make use of REST whereas REST can make use of SOAP.\n"
   ]
  },
  {
   "cell_type": "code",
   "execution_count": null,
   "id": "ac9f5a2b-77e6-4ef5-8057-b6b7e33d254a",
   "metadata": {},
   "outputs": [],
   "source": []
  }
 ],
 "metadata": {
  "kernelspec": {
   "display_name": "Python 3 (ipykernel)",
   "language": "python",
   "name": "python3"
  },
  "language_info": {
   "codemirror_mode": {
    "name": "ipython",
    "version": 3
   },
   "file_extension": ".py",
   "mimetype": "text/x-python",
   "name": "python",
   "nbconvert_exporter": "python",
   "pygments_lexer": "ipython3",
   "version": "3.10.8"
  }
 },
 "nbformat": 4,
 "nbformat_minor": 5
}
